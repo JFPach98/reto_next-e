{
 "cells": [
  {
   "cell_type": "markdown",
   "metadata": {},
   "source": [
    "# Prueba de módulos"
   ]
  },
  {
   "cell_type": "markdown",
   "metadata": {},
   "source": [
    "Por José Francisco Pacheco Quintana"
   ]
  },
  {
   "cell_type": "code",
   "execution_count": 2,
   "metadata": {},
   "outputs": [],
   "source": [
    "import requests, json"
   ]
  },
  {
   "cell_type": "code",
   "execution_count": 15,
   "metadata": {},
   "outputs": [],
   "source": [
    "api_key = \"44ddcd172064f45d3c25066cf35f80e8\""
   ]
  },
  {
   "cell_type": "code",
   "execution_count": 5,
   "metadata": {},
   "outputs": [],
   "source": [
    "base_url = \"http://api.openweathermap.org/data/2.5/weather?\""
   ]
  },
  {
   "cell_type": "code",
   "execution_count": 17,
   "metadata": {},
   "outputs": [],
   "source": [
    "city_name = \"Monterrey,MX\""
   ]
  },
  {
   "cell_type": "code",
   "execution_count": 18,
   "metadata": {},
   "outputs": [],
   "source": [
    "complete_url = base_url + \"appid=\" + api_key + \"&q=\" + city_name"
   ]
  },
  {
   "cell_type": "code",
   "execution_count": 19,
   "metadata": {},
   "outputs": [
    {
     "name": "stdout",
     "output_type": "stream",
     "text": [
      "{'coord': {'lon': -100.3167, 'lat': 25.6667}, 'weather': [{'id': 800, 'main': 'Clear', 'description': 'clear sky', 'icon': '01n'}], 'base': 'stations', 'main': {'temp': 299.02, 'feels_like': 299.75, 'temp_min': 299.02, 'temp_max': 299.1, 'pressure': 1016, 'humidity': 80, 'sea_level': 1016, 'grnd_level': 955}, 'visibility': 10000, 'wind': {'speed': 2.11, 'deg': 125, 'gust': 4.02}, 'clouds': {'all': 2}, 'dt': 1628664311, 'sys': {'type': 2, 'id': 2004940, 'country': 'MX', 'sunrise': 1628683967, 'sunset': 1628731212}, 'timezone': -18000, 'id': 3995465, 'name': 'Monterrey', 'cod': 200}\n"
     ]
    }
   ],
   "source": [
    "response = requests.get(complete_url)\n",
    "\n",
    "x = response.json()\n",
    "\n",
    "print(x)"
   ]
  },
  {
   "cell_type": "code",
   "execution_count": 20,
   "metadata": {},
   "outputs": [
    {
     "name": "stdout",
     "output_type": "stream",
     "text": [
      " Temperature (in kelvin unit) = 299.02\n",
      " atmospheric pressure (in hPa unit) = 1016\n",
      " humidity (in percentage) = 80\n",
      " description = clear sky\n"
     ]
    }
   ],
   "source": [
    "if x[\"cod\"] != \"404\":\n",
    " \n",
    "    y = x[\"main\"]\n",
    " \n",
    "    current_temperature = y[\"temp\"]\n",
    " \n",
    "    current_pressure = y[\"pressure\"]\n",
    " \n",
    "    current_humidity = y[\"humidity\"]\n",
    " \n",
    "    z = x[\"weather\"]\n",
    " \n",
    "    weather_description = z[0][\"description\"]\n",
    " \n",
    "    print(\" Temperature (in kelvin unit) = \" +\n",
    "                    str(current_temperature) +\n",
    "          \"\\n atmospheric pressure (in hPa unit) = \" +\n",
    "                    str(current_pressure) +\n",
    "          \"\\n humidity (in percentage) = \" +\n",
    "                    str(current_humidity) +\n",
    "          \"\\n description = \" +\n",
    "                    str(weather_description))\n",
    "else:\n",
    "    print(\" City Not Found \")"
   ]
  },
  {
   "cell_type": "code",
   "execution_count": 21,
   "metadata": {},
   "outputs": [
    {
     "name": "stdout",
     "output_type": "stream",
     "text": [
      "now = 2021-08-11 02:30:48.082446\n",
      "date and time = 11/08/2021 02:30:48\n"
     ]
    }
   ],
   "source": [
    "from datetime import datetime\n",
    "\n",
    "# datetime object containing current date and time\n",
    "now = datetime.now()\n",
    " \n",
    "print(\"now =\", now)\n",
    "\n",
    "# dd/mm/YY H:M:S\n",
    "dt_string = now.strftime(\"%d/%m/%Y %H:%M:%S\")\n",
    "print(\"date and time =\", dt_string)\t"
   ]
  },
  {
   "cell_type": "code",
   "execution_count": 22,
   "metadata": {},
   "outputs": [],
   "source": [
    "y[\"time\"] = now.strftime(\"%d/%m/%Y %H:%M:%S\")"
   ]
  },
  {
   "cell_type": "code",
   "execution_count": 23,
   "metadata": {},
   "outputs": [
    {
     "name": "stdout",
     "output_type": "stream",
     "text": [
      "{'temp': 299.02, 'feels_like': 299.75, 'temp_min': 299.02, 'temp_max': 299.1, 'pressure': 1016, 'humidity': 80, 'sea_level': 1016, 'grnd_level': 955, 'time': '11/08/2021 02:30:48'}\n"
     ]
    }
   ],
   "source": [
    "print(y)"
   ]
  },
  {
   "cell_type": "code",
   "execution_count": 14,
   "metadata": {},
   "outputs": [],
   "source": [
    "import pandas as pd\n",
    "import boto3"
   ]
  },
  {
   "cell_type": "code",
   "execution_count": 6,
   "metadata": {},
   "outputs": [],
   "source": [
    "dynamodb = boto3.resource('dynamodb')"
   ]
  },
  {
   "cell_type": "code",
   "execution_count": 16,
   "metadata": {},
   "outputs": [],
   "source": [
    "table = dynamodb.Table('weather')"
   ]
  },
  {
   "cell_type": "code",
   "execution_count": 45,
   "metadata": {},
   "outputs": [],
   "source": [
    "response = table.scan()\n",
    "items = response['Items']\n",
    "while 'LastEvaluatedKey' in response:\n",
    "    print(response['LastEvaluatedKey'])\n",
    "    response = table.scan(ExclusiveStartKey=response['LastEvaluatedKey'])\n",
    "    items.extend(response['Items'])"
   ]
  },
  {
   "cell_type": "code",
   "execution_count": 46,
   "metadata": {},
   "outputs": [
    {
     "data": {
      "text/plain": [
       "[{'humidity': '58',\n",
       "  'time': '12/08/2021 19:02:02',\n",
       "  'feels_like': '307.63',\n",
       "  'pressure': '1012',\n",
       "  'temperature': '304.21'},\n",
       " {'humidity': '55',\n",
       "  'time': '12/08/2021 18:54:02',\n",
       "  'feels_like': '305.5',\n",
       "  'pressure': '1012',\n",
       "  'temperature': '303.42'},\n",
       " {'humidity': '58',\n",
       "  'time': '12/08/2021 19:00:09',\n",
       "  'feels_like': '307.63',\n",
       "  'pressure': '1012',\n",
       "  'temperature': '304.21'},\n",
       " {'humidity': '58',\n",
       "  'time': '12/08/2021 18:56:02',\n",
       "  'feels_like': '307.63',\n",
       "  'pressure': '1012',\n",
       "  'temperature': '304.21'},\n",
       " {'humidity': '58',\n",
       "  'time': '12/08/2021 19:04:02',\n",
       "  'feels_like': '307.63',\n",
       "  'pressure': '1012',\n",
       "  'temperature': '304.21'},\n",
       " {'humidity': '58',\n",
       "  'time': '12/08/2021 19:06:02',\n",
       "  'feels_like': '307.63',\n",
       "  'pressure': '1012',\n",
       "  'temperature': '304.21'},\n",
       " {'humidity': '58',\n",
       "  'time': '12/08/2021 18:58:02',\n",
       "  'feels_like': '307.63',\n",
       "  'pressure': '1012',\n",
       "  'temperature': '304.21'}]"
      ]
     },
     "execution_count": 46,
     "metadata": {},
     "output_type": "execute_result"
    }
   ],
   "source": [
    "items"
   ]
  },
  {
   "cell_type": "code",
   "execution_count": 47,
   "metadata": {},
   "outputs": [
    {
     "data": {
      "text/html": [
       "<div>\n",
       "<style scoped>\n",
       "    .dataframe tbody tr th:only-of-type {\n",
       "        vertical-align: middle;\n",
       "    }\n",
       "\n",
       "    .dataframe tbody tr th {\n",
       "        vertical-align: top;\n",
       "    }\n",
       "\n",
       "    .dataframe thead th {\n",
       "        text-align: right;\n",
       "    }\n",
       "</style>\n",
       "<table border=\"1\" class=\"dataframe\">\n",
       "  <thead>\n",
       "    <tr style=\"text-align: right;\">\n",
       "      <th></th>\n",
       "      <th>humidity</th>\n",
       "      <th>time</th>\n",
       "      <th>feels_like</th>\n",
       "      <th>pressure</th>\n",
       "      <th>temperature</th>\n",
       "    </tr>\n",
       "  </thead>\n",
       "  <tbody>\n",
       "    <tr>\n",
       "      <th>0</th>\n",
       "      <td>58</td>\n",
       "      <td>12/08/2021 19:02:02</td>\n",
       "      <td>307.63</td>\n",
       "      <td>1012</td>\n",
       "      <td>304.21</td>\n",
       "    </tr>\n",
       "    <tr>\n",
       "      <th>1</th>\n",
       "      <td>55</td>\n",
       "      <td>12/08/2021 18:54:02</td>\n",
       "      <td>305.5</td>\n",
       "      <td>1012</td>\n",
       "      <td>303.42</td>\n",
       "    </tr>\n",
       "    <tr>\n",
       "      <th>2</th>\n",
       "      <td>58</td>\n",
       "      <td>12/08/2021 19:00:09</td>\n",
       "      <td>307.63</td>\n",
       "      <td>1012</td>\n",
       "      <td>304.21</td>\n",
       "    </tr>\n",
       "    <tr>\n",
       "      <th>3</th>\n",
       "      <td>58</td>\n",
       "      <td>12/08/2021 18:56:02</td>\n",
       "      <td>307.63</td>\n",
       "      <td>1012</td>\n",
       "      <td>304.21</td>\n",
       "    </tr>\n",
       "    <tr>\n",
       "      <th>4</th>\n",
       "      <td>58</td>\n",
       "      <td>12/08/2021 19:04:02</td>\n",
       "      <td>307.63</td>\n",
       "      <td>1012</td>\n",
       "      <td>304.21</td>\n",
       "    </tr>\n",
       "    <tr>\n",
       "      <th>5</th>\n",
       "      <td>58</td>\n",
       "      <td>12/08/2021 19:06:02</td>\n",
       "      <td>307.63</td>\n",
       "      <td>1012</td>\n",
       "      <td>304.21</td>\n",
       "    </tr>\n",
       "    <tr>\n",
       "      <th>6</th>\n",
       "      <td>58</td>\n",
       "      <td>12/08/2021 18:58:02</td>\n",
       "      <td>307.63</td>\n",
       "      <td>1012</td>\n",
       "      <td>304.21</td>\n",
       "    </tr>\n",
       "  </tbody>\n",
       "</table>\n",
       "</div>"
      ],
      "text/plain": [
       "  humidity                 time feels_like pressure temperature\n",
       "0       58  12/08/2021 19:02:02     307.63     1012      304.21\n",
       "1       55  12/08/2021 18:54:02      305.5     1012      303.42\n",
       "2       58  12/08/2021 19:00:09     307.63     1012      304.21\n",
       "3       58  12/08/2021 18:56:02     307.63     1012      304.21\n",
       "4       58  12/08/2021 19:04:02     307.63     1012      304.21\n",
       "5       58  12/08/2021 19:06:02     307.63     1012      304.21\n",
       "6       58  12/08/2021 18:58:02     307.63     1012      304.21"
      ]
     },
     "execution_count": 47,
     "metadata": {},
     "output_type": "execute_result"
    }
   ],
   "source": [
    "df = pd.DataFrame(items)\n",
    "df"
   ]
  },
  {
   "cell_type": "code",
   "execution_count": 48,
   "metadata": {},
   "outputs": [],
   "source": [
    "cols = df.columns.tolist()"
   ]
  },
  {
   "cell_type": "code",
   "execution_count": 49,
   "metadata": {},
   "outputs": [],
   "source": [
    "cols = cols[1:] + cols[:-4]"
   ]
  },
  {
   "cell_type": "code",
   "execution_count": 50,
   "metadata": {},
   "outputs": [],
   "source": [
    "df1 = df[cols]"
   ]
  },
  {
   "cell_type": "code",
   "execution_count": 51,
   "metadata": {},
   "outputs": [
    {
     "data": {
      "text/html": [
       "<div>\n",
       "<style scoped>\n",
       "    .dataframe tbody tr th:only-of-type {\n",
       "        vertical-align: middle;\n",
       "    }\n",
       "\n",
       "    .dataframe tbody tr th {\n",
       "        vertical-align: top;\n",
       "    }\n",
       "\n",
       "    .dataframe thead th {\n",
       "        text-align: right;\n",
       "    }\n",
       "</style>\n",
       "<table border=\"1\" class=\"dataframe\">\n",
       "  <thead>\n",
       "    <tr style=\"text-align: right;\">\n",
       "      <th></th>\n",
       "      <th>time</th>\n",
       "      <th>feels_like</th>\n",
       "      <th>pressure</th>\n",
       "      <th>temperature</th>\n",
       "      <th>humidity</th>\n",
       "    </tr>\n",
       "  </thead>\n",
       "  <tbody>\n",
       "    <tr>\n",
       "      <th>0</th>\n",
       "      <td>12/08/2021 19:02:02</td>\n",
       "      <td>307.63</td>\n",
       "      <td>1012</td>\n",
       "      <td>304.21</td>\n",
       "      <td>58</td>\n",
       "    </tr>\n",
       "    <tr>\n",
       "      <th>1</th>\n",
       "      <td>12/08/2021 18:54:02</td>\n",
       "      <td>305.5</td>\n",
       "      <td>1012</td>\n",
       "      <td>303.42</td>\n",
       "      <td>55</td>\n",
       "    </tr>\n",
       "    <tr>\n",
       "      <th>2</th>\n",
       "      <td>12/08/2021 19:00:09</td>\n",
       "      <td>307.63</td>\n",
       "      <td>1012</td>\n",
       "      <td>304.21</td>\n",
       "      <td>58</td>\n",
       "    </tr>\n",
       "    <tr>\n",
       "      <th>3</th>\n",
       "      <td>12/08/2021 18:56:02</td>\n",
       "      <td>307.63</td>\n",
       "      <td>1012</td>\n",
       "      <td>304.21</td>\n",
       "      <td>58</td>\n",
       "    </tr>\n",
       "    <tr>\n",
       "      <th>4</th>\n",
       "      <td>12/08/2021 19:04:02</td>\n",
       "      <td>307.63</td>\n",
       "      <td>1012</td>\n",
       "      <td>304.21</td>\n",
       "      <td>58</td>\n",
       "    </tr>\n",
       "    <tr>\n",
       "      <th>5</th>\n",
       "      <td>12/08/2021 19:06:02</td>\n",
       "      <td>307.63</td>\n",
       "      <td>1012</td>\n",
       "      <td>304.21</td>\n",
       "      <td>58</td>\n",
       "    </tr>\n",
       "    <tr>\n",
       "      <th>6</th>\n",
       "      <td>12/08/2021 18:58:02</td>\n",
       "      <td>307.63</td>\n",
       "      <td>1012</td>\n",
       "      <td>304.21</td>\n",
       "      <td>58</td>\n",
       "    </tr>\n",
       "  </tbody>\n",
       "</table>\n",
       "</div>"
      ],
      "text/plain": [
       "                  time feels_like pressure temperature humidity\n",
       "0  12/08/2021 19:02:02     307.63     1012      304.21       58\n",
       "1  12/08/2021 18:54:02      305.5     1012      303.42       55\n",
       "2  12/08/2021 19:00:09     307.63     1012      304.21       58\n",
       "3  12/08/2021 18:56:02     307.63     1012      304.21       58\n",
       "4  12/08/2021 19:04:02     307.63     1012      304.21       58\n",
       "5  12/08/2021 19:06:02     307.63     1012      304.21       58\n",
       "6  12/08/2021 18:58:02     307.63     1012      304.21       58"
      ]
     },
     "execution_count": 51,
     "metadata": {},
     "output_type": "execute_result"
    }
   ],
   "source": [
    "df1"
   ]
  },
  {
   "cell_type": "code",
   "execution_count": 53,
   "metadata": {},
   "outputs": [],
   "source": [
    "df1['time'] = pd.to_datetime(df1['time'])"
   ]
  },
  {
   "cell_type": "code",
   "execution_count": 116,
   "metadata": {},
   "outputs": [],
   "source": [
    "df1[\"temperature\"] = pd.to_numeric(df1[\"temperature\"], downcast=\"float\")\n",
    "df1[\"feels_like\"] = pd.to_numeric(df1[\"feels_like\"], downcast=\"float\")\n",
    "df1[\"pressure\"] = pd.to_numeric(df1[\"pressure\"], downcast=\"float\")\n",
    "df1[\"humidity\"] = pd.to_numeric(df1[\"humidity\"], downcast=\"float\")"
   ]
  },
  {
   "cell_type": "code",
   "execution_count": 117,
   "metadata": {},
   "outputs": [
    {
     "name": "stdout",
     "output_type": "stream",
     "text": [
      "The first register is 2021-12-08 18:54:02, the last register is 2021-12-08 19:06:02\n"
     ]
    }
   ],
   "source": [
    "print(\"The first register is \"+ str(df1['time'].min()) + \", the last register is \" + str(df1['time'].max()))"
   ]
  },
  {
   "cell_type": "code",
   "execution_count": 62,
   "metadata": {},
   "outputs": [
    {
     "name": "stdout",
     "output_type": "stream",
     "text": [
      "Type a starting date: 12/08/2021 18:56:02\n",
      "Type an ending date: 12/08/2021 19:02:02\n"
     ]
    }
   ],
   "source": [
    "start = input(\"Type a starting date: \")\n",
    "end = input(\"Type an ending date: \")"
   ]
  },
  {
   "cell_type": "code",
   "execution_count": 118,
   "metadata": {},
   "outputs": [],
   "source": [
    "query = df1[(df1['time'] > start) & (df1['time'] <= end)]"
   ]
  },
  {
   "cell_type": "code",
   "execution_count": 119,
   "metadata": {},
   "outputs": [],
   "source": [
    "avg = query['temperature'].mean()"
   ]
  },
  {
   "cell_type": "code",
   "execution_count": 120,
   "metadata": {},
   "outputs": [
    {
     "data": {
      "text/plain": [
       "304.2099914550781"
      ]
     },
     "execution_count": 120,
     "metadata": {},
     "output_type": "execute_result"
    }
   ],
   "source": [
    "avg"
   ]
  }
 ],
 "metadata": {
  "kernelspec": {
   "display_name": "Python 3",
   "language": "python",
   "name": "python3"
  },
  "language_info": {
   "codemirror_mode": {
    "name": "ipython",
    "version": 3
   },
   "file_extension": ".py",
   "mimetype": "text/x-python",
   "name": "python",
   "nbconvert_exporter": "python",
   "pygments_lexer": "ipython3",
   "version": "3.8.5"
  }
 },
 "nbformat": 4,
 "nbformat_minor": 4
}
